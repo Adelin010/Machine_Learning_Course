{
 "cells": [
  {
   "cell_type": "code",
   "execution_count": 12,
   "metadata": {},
   "outputs": [
    {
     "name": "stdout",
     "output_type": "stream",
     "text": [
      "(0, 6)\n",
      "(4, 6)\n",
      "(4, 4)\n",
      "(4, 3)\n",
      "4\n",
      "False\n"
     ]
    }
   ],
   "source": [
    "# Median of two sorted arrays \n",
    "# allgemeinen komplexitat muss O(log(m+n)) sein\n",
    "# die Arrays habeb die Lange n bzw. m\n",
    "class Solution:\n",
    "    def findMedianSortedArrays(self, nums1: list[int], nums2: list[int]) -> float:\n",
    "        n, m = len(nums1), len(nums2)\n",
    "        if n&1 == 1:\n",
    "            possible_val = nums1[n // 2]\n",
    "            idx = self.binarySearch(nums2, possible_val) \n",
    "            if idx == m // 2:\n",
    "                return possible_val\n",
    "            else:\n",
    "                pass\n",
    "            \n",
    "\n",
    "    def __binarySearch(self, arr: list[int], links: int, rechts: int, val:int)-> int:\n",
    "\n",
    "        print((links, rechts))\n",
    "        if links > rechts:\n",
    "            return links\n",
    "\n",
    "        middle = (rechts + links) // 2\n",
    "        if arr[middle] == val:\n",
    "            return middle\n",
    "        else:\n",
    "            if arr[middle] < val:\n",
    "                return self.__binarySearch(arr, middle+1, rechts, val)\n",
    "            else:\n",
    "                return self.__binarySearch(arr, links, middle-1, val)\n",
    "            \n",
    "\n",
    "\n",
    "    def binarySearch(self, arr: list[int], val:int) -> int:\n",
    "        return self.__binarySearch(arr, 0, len(arr)-1, val)\n",
    "    \n",
    "def main():\n",
    "    sol = Solution()\n",
    "    print(sol.binarySearch([1, 4, 6, 9, 23, 45, 76], 10))\n",
    "\n",
    "main()"
   ]
  },
  {
   "cell_type": "code",
   "execution_count": 17,
   "metadata": {},
   "outputs": [
    {
     "name": "stdout",
     "output_type": "stream",
     "text": [
      "1\n",
      "49\n"
     ]
    }
   ],
   "source": [
    "# Container with most Water problem\n",
    "# es gibt verschiedene Spalte von einem Hohe h[i]\n",
    "# wahlen also zwei die eine Maximale Aria zuruckgeben\n",
    "class Solution:\n",
    "    def maxArea(self, height: list[int]) -> int:\n",
    "        # fangen wir mit die Seite an, und durchfuhren eine Prufung um zu sehen\n",
    "        # ob es gibt eine bessere Flache wenn wir die maximale nachste k Spalte nehmen \n",
    "        maxbars = 2\n",
    "        i, j = 0, len(height) -1\n",
    "        candidate_area = self.area(height, i, j)\n",
    "        exist_better = True\n",
    "\n",
    "        while exist_better:\n",
    "            # suchen um zu verbessern von der Linkeseite  \n",
    "            new_solutions: dict[int, tuple[int, int]] = {} \n",
    "            for k  in range(maxbars):\n",
    "                ik = i + (k + 1)\n",
    "                new_area = self.area(height, ik, j)\n",
    "                if new_area > candidate_area:\n",
    "                    new_solutions[new_area] = (ik, j)\n",
    "                \n",
    "            # suchen in der Rechteseite\n",
    "            for k in range(maxbars):\n",
    "                jk = j - (k + 1)\n",
    "                new_area = self.area(height, i, jk)\n",
    "                if new_area > candidate_area:\n",
    "                    new_solutions[new_area] = (i, jk)\n",
    "\n",
    "            for k in range(maxbars):\n",
    "                ik, jk = i + (k + 1), j - (k +1)\n",
    "                new_area = self.area(height, ik, jk)\n",
    "                if new_area > candidate_area:\n",
    "                    new_solutions[new_area] = (ik, jk)\n",
    "\n",
    "\n",
    "            if bool(new_solutions):\n",
    "                max_area = max(list(new_solutions.keys()))\n",
    "                coor = new_solutions[max_area]\n",
    "                candidate_area = max_area\n",
    "                i = coor[0]\n",
    "                j = coor[1]\n",
    "                exist_better = True\n",
    "            else:\n",
    "                exist_better = False\n",
    "\n",
    "        return candidate_area\n",
    "\n",
    "    def area(self, height: list[int], i: int, j: int) -> int:\n",
    "        # Die Flache zwischen bar von index i und bar von index j(wobei j > i)\n",
    "        if i < 0 or j < 0 or i >= len(height) or j >= len(height):\n",
    "            return -1\n",
    "        hi, hj = height[i], height[j]\n",
    "        width = (j - i)\n",
    "        return width * min(hi, hj)\n",
    "    \n",
    "\n",
    "def main():\n",
    "    s = Solution()\n",
    "    print(s.maxArea([1, 1]))\n",
    "    print(s.maxArea([1,8,6,2,5,4,8,3,7]))\n",
    "\n",
    "main()\n"
   ]
  },
  {
   "cell_type": "code",
   "execution_count": 23,
   "metadata": {},
   "outputs": [
    {
     "name": "stdout",
     "output_type": "stream",
     "text": [
      "1\n",
      "49\n"
     ]
    }
   ],
   "source": [
    "# Alternative solution, dass nicht so wahrscheinlichkeitsahnlich ist \n",
    "class Solution: \n",
    "\n",
    "    def maxArea(self, height: list[int]) -> int:\n",
    "        # index zu den Seiten\n",
    "        i, j = 0, len(height) - 1\n",
    "        candidat_area = 0\n",
    "        while i < j:\n",
    "            candidat_area = max(candidat_area, self.area(height, i, j))\n",
    "            if height[i] < height[j]:\n",
    "                i += 1\n",
    "            else:\n",
    "                j -= 1\n",
    "        return candidat_area\n",
    "    \n",
    "    def area(self, height: list[int], i: int, j: int) -> int:\n",
    "        # Die Flache zwischen bar von index i und bar von index j(wobei j > i)\n",
    "        hi, hj = height[i], height[j]\n",
    "        width = (j - i)\n",
    "        return width * min(hi, hj)\n",
    "    \n",
    "\n",
    "def main():\n",
    "    s = Solution()\n",
    "    print(s.maxArea([1, 1]))\n",
    "    print(s.maxArea([1,8,6,2,5,4,8,3,7]))\n",
    "\n",
    "main()"
   ]
  },
  {
   "cell_type": "code",
   "execution_count": 44,
   "metadata": {},
   "outputs": [
    {
     "data": {
      "text/plain": [
       "[(1, -1, 0), (2, -1, 1)]"
      ]
     },
     "execution_count": 44,
     "metadata": {},
     "output_type": "execute_result"
    }
   ],
   "source": [
    "# 3Sum sei gegeben eine List von Zahlen \n",
    "# wahlen 3 so dass, sie sind verschieden und die Summe von ihnen gleich null soll sein\n",
    "# Das Ergebnis muss der Form [(i, j, k)] sein\n",
    "\n",
    "\n",
    "class Solution:\n",
    "    def threeSum(self, nums: list[int]) -> list[list[int]]:\n",
    "        uniq = set(nums)\n",
    "        # die Matrix wird eine zusatzliche Zeile da oben haben, dass unseres uniq set wird gespeicher\n",
    "        # wenn die summe poss[i][j] betrachten wissen wir, dass die Zahlen von poss[0][i-1] und poss[0][j] die gemacht haben\n",
    "        # when creating lists with * operator we actually create same references to the first list => append will do that to all of them \n",
    "        # poss = [[]] * (len(uniq) + 1)\n",
    "        poss: list[list[int]] = [[] for _ in range(len(uniq) + 1)]\n",
    "        # bord the matrix\n",
    "        for num in uniq:\n",
    "            poss[0].append(num)\n",
    "        rowidx = 1\n",
    "        for num1 in uniq:\n",
    "            for num2 in uniq:\n",
    "                poss[rowidx].append(num1 + num2)\n",
    "\n",
    "            rowidx += 1\n",
    "        \n",
    "        res = []\n",
    "\n",
    "        for i in range(len(poss)):\n",
    "            for j in range(len(poss[i])):\n",
    "                a, b, c = poss[0][i-1], poss[0][j], poss[i][j]\n",
    "                if poss[i][j] in uniq and self.compare3(a, b, c, res):\n",
    "                    res.append((a, b, c))\n",
    "\n",
    "        return res\n",
    "\n",
    "    def compare3(self, i: int, j:int , k: int, res:list[tuple[int,int, int]]) -> bool:\n",
    "        return (i != j) and (j != k) and (i != k) and (i, j, k) not in res and (i, k, j) not in res and (j, k, i) not in res and (j, i, k) not in res and (k, i, j) not in res and (k, j, i) not in res\n",
    "        \n",
    "\n",
    "\n",
    "s =Solution()\n",
    "s.threeSum([-1, 2, 0, 1, -1, 2, 0, 1])\n",
    "        \n",
    "           "
   ]
  }
 ],
 "metadata": {
  "kernelspec": {
   "display_name": "venv",
   "language": "python",
   "name": "python3"
  },
  "language_info": {
   "codemirror_mode": {
    "name": "ipython",
    "version": 3
   },
   "file_extension": ".py",
   "mimetype": "text/x-python",
   "name": "python",
   "nbconvert_exporter": "python",
   "pygments_lexer": "ipython3",
   "version": "3.12.8"
  }
 },
 "nbformat": 4,
 "nbformat_minor": 2
}
