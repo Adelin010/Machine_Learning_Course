{
 "cells": [
  {
   "cell_type": "code",
   "execution_count": 7,
   "metadata": {},
   "outputs": [
    {
     "name": "stdout",
     "output_type": "stream",
     "text": [
      "counter: 12\n",
      "([5, 2, 3, 4], [5, 2, 3, 4], [1, 3, 3, 4])\n"
     ]
    }
   ],
   "source": [
    "# tuple of lists\n",
    "a = [1, 2, 3, 4]\n",
    "b = a \n",
    "c = a[:]\n",
    "\n",
    "b[0] = 5\n",
    "c[1] = 3\n",
    "count = 0\n",
    "for i in (a, b, c):\n",
    "    if i[0] == 5:\n",
    "        count += 1\n",
    "    if i[1] == 3:\n",
    "        count += 10\n",
    "    \n",
    "\n",
    "print(f\"counter: {count}\")\n",
    "print((a, b, c))"
   ]
  }
 ],
 "metadata": {
  "kernelspec": {
   "display_name": "venv",
   "language": "python",
   "name": "python3"
  },
  "language_info": {
   "codemirror_mode": {
    "name": "ipython",
    "version": 3
   },
   "file_extension": ".py",
   "mimetype": "text/x-python",
   "name": "python",
   "nbconvert_exporter": "python",
   "pygments_lexer": "ipython3",
   "version": "3.12.8"
  }
 },
 "nbformat": 4,
 "nbformat_minor": 2
}
