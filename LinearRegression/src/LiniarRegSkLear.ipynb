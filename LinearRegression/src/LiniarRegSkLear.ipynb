{
 "cells": [
  {
   "cell_type": "code",
   "execution_count": null,
   "metadata": {},
   "outputs": [],
   "source": [
    "import numpy as np\n",
    "import pandas as pd\n",
    "import seaborn as sns\n",
    "import matplotlib.pyplot as plt\n",
    "from sklearn import preprocessing, svm\n",
    "from sklearn.model_selection import train_test_split\n",
    "from sklearn.linear_model import LinearRegression\n"
   ]
  },
  {
   "cell_type": "code",
   "execution_count": null,
   "metadata": {},
   "outputs": [],
   "source": [
    "#Reading the database\n",
    "df = pd.read_csv('bottle.csv')\n",
    "\n",
    "#Taking only the selected two features from the dataset\n",
    "df_bin = df[['Salnty', 'T_degC']]\n",
    "\n",
    "#Rename the columns\n",
    "df_bin.columns = ['Sal', 'Temp']\n",
    "\n",
    "#Display the first 5 rows\n",
    "df_bin.head()\n"
   ]
  },
  {
   "cell_type": "code",
   "execution_count": null,
   "metadata": {},
   "outputs": [],
   "source": [
    "#Ploting the Scatter points and the relation between the features\n",
    "# ci - confidence value by default = 95%\n",
    "sns.lmplot(x = 'Sal', y='Temp', data=df_bin, order=2, ci=None)\n",
    "plt.show()\n",
    "\n"
   ]
  },
  {
   "cell_type": "code",
   "execution_count": null,
   "metadata": {},
   "outputs": [],
   "source": [
    "#Eliminating NaN or missing input numbers\n",
    "# DATA CLEANING \n",
    "df_bin.fillna(method='fill', inplace=True)\n",
    "\n",
    "# TRAINNING THE MODEL\n",
    "#Separation between dependent and independent data\n",
    "X = np.array(df_bin['Sal']).reshape(-1, 1)\n",
    "Y = np.array(df_bin['Temp']).reshape(-1, 1)\n",
    "\n",
    "#Dropping the rows with NaN\n",
    "df_bin.dropna(inplace=True)\n",
    "\n",
    "#Splitting the data into trainning & testing sets\n",
    "X_train, Y_train, X_test, Y_test = train_test_split(X, Y, test_size=.25)\n",
    "\n",
    "#init the Regression obj\n",
    "regr = LinearRegression()\n",
    "\n",
    "regr.fit(X_train, Y_train)\n",
    "print(regr.score(X_test, Y_test))\n",
    "# the score on the whole data set not very good ~ 0.207"
   ]
  },
  {
   "cell_type": "code",
   "execution_count": null,
   "metadata": {},
   "outputs": [],
   "source": [
    "# Plotting the result of prediction\n",
    "\n",
    "Y_pred = regr.predict(X_test)\n",
    "plt.scatter(X_test, Y_test, color='bo')\n",
    "plt.plot(X_test, Y_pred, color='g')\n",
    "plt.show()\n",
    "\n",
    "#The data in this case suggest - through the small score - that the Liniear Regression may not be fitted \n",
    "#Although that, LinReg may fit the data if we sample just a portion of it\n",
    "\n",
    "df_bin500 = df_bin[:][:500]\n",
    "\n",
    "sns.lmplot(x='Sal', y='Temp', ci=None, data=df_bin500, order=2)\n",
    "\n"
   ]
  },
  {
   "cell_type": "code",
   "execution_count": null,
   "metadata": {},
   "outputs": [],
   "source": [
    "# Recomputing the Liniar Regression only for these 500 entries\n",
    "df_bin500.fillna(method='fill', inplace=True)\n",
    "\n",
    "X = np.array(df_bin500['Sal']).reshape(-1, 1)\n",
    "Y = np.array(df_bin500['Temp']).reshape(-1, 1)\n",
    "\n",
    "df_bin500.dropna(inplace=True)\n",
    "\n",
    "X_train, Y_train, X_test, Y_test = train_test_split(X, Y, test_size=.25)\n",
    "\n",
    "regr = LinearRegression()\n",
    "regr.fit(X_train, Y_train)\n",
    "print(regr.score(X_test, Y_test))\n",
    "# Almost ~ 0.847 much more better then before\n",
    "\n",
    "#Plot the new Result\n",
    "y_pred = regr.predict(X_test)\n",
    "plt.scatter(X_test, Y_test, color=\"b\")\n",
    "plt.plot(X_test, Y_pred, color='g')\n",
    "plt.show()"
   ]
  },
  {
   "cell_type": "code",
   "execution_count": null,
   "metadata": {},
   "outputs": [],
   "source": [
    "# Evaluation metrics mostly used:\n",
    "# 1) mean_absolute_error MAE\n",
    "# 2) mean_squared_error MSE\n",
    "\n",
    "from sklearn.metrics import mean_absolute_error, mean_squared_error\n",
    "\n",
    "mae = mean_absolute_error(y_true=Y_test, y_pred=Y_pred)\n",
    "mse = mean_squared_error(y_true=Y_test, y_pred=Y_pred)\n",
    "\n",
    "print(f\"MAR: {mae}\\nMSE: {mse}\")\n"
   ]
  }
 ],
 "metadata": {
  "kernelspec": {
   "display_name": "venv",
   "language": "python",
   "name": "python3"
  },
  "language_info": {
   "codemirror_mode": {
    "name": "ipython",
    "version": 3
   },
   "file_extension": ".py",
   "mimetype": "text/x-python",
   "name": "python",
   "nbconvert_exporter": "python",
   "pygments_lexer": "ipython3",
   "version": "3.12.8"
  }
 },
 "nbformat": 4,
 "nbformat_minor": 2
}
