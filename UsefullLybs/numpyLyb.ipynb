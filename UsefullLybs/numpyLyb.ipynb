{
 "cells": [
  {
   "cell_type": "markdown",
   "metadata": {},
   "source": [
    "# Numpy Lib guide on how to use it"
   ]
  },
  {
   "cell_type": "code",
   "execution_count": 2,
   "metadata": {},
   "outputs": [],
   "source": [
    "import numpy as np"
   ]
  },
  {
   "cell_type": "markdown",
   "metadata": {},
   "source": [
    "## Basics"
   ]
  },
  {
   "cell_type": "code",
   "execution_count": 3,
   "metadata": {},
   "outputs": [
    {
     "name": "stdout",
     "output_type": "stream",
     "text": [
      "[1 2 3 4]\n"
     ]
    }
   ],
   "source": [
    "# dtype param used to store the info in less space\n",
    "a = np.array([1, 2, 3, 4], dtype='int16')\n",
    "print(a)"
   ]
  },
  {
   "cell_type": "code",
   "execution_count": 4,
   "metadata": {},
   "outputs": [
    {
     "name": "stdout",
     "output_type": "stream",
     "text": [
      "[[ 1.    9.06 32.    5.  ]\n",
      " [ 1.02  3.    4.   45.  ]]\n"
     ]
    }
   ],
   "source": [
    "b = np.array([[1, 9.06, 32, 5], [1.02, 3, 4.0, 45]])\n",
    "print(b)\n",
    "# !!! Arrays must be homogeneous -> same no of elemes per row"
   ]
  },
  {
   "cell_type": "code",
   "execution_count": 5,
   "metadata": {},
   "outputs": [
    {
     "data": {
      "text/plain": [
       "1"
      ]
     },
     "execution_count": 5,
     "metadata": {},
     "output_type": "execute_result"
    }
   ],
   "source": [
    "# Getting the Dimensions\n",
    "a.ndim "
   ]
  },
  {
   "cell_type": "code",
   "execution_count": 6,
   "metadata": {},
   "outputs": [
    {
     "name": "stdout",
     "output_type": "stream",
     "text": [
      "1D array A: (4,)\n",
      "2D array B: (2, 4)\n"
     ]
    }
   ],
   "source": [
    "# Getting the Shape\n",
    "# if 1D -> (no_elem, )\n",
    "# if kD -> (no_rows, no_elems)\n",
    "print(f\"1D array A: {a.shape}\\n2D array B: {b.shape}\")"
   ]
  },
  {
   "cell_type": "code",
   "execution_count": 7,
   "metadata": {},
   "outputs": [
    {
     "data": {
      "text/plain": [
       "dtype('int16')"
      ]
     },
     "execution_count": 7,
     "metadata": {},
     "output_type": "execute_result"
    }
   ],
   "source": [
    "# Getting the Type\n",
    "# Default type for int is int64\n",
    "# to change this specify the type when creating it with dtype=''\n",
    "a.dtype"
   ]
  },
  {
   "cell_type": "code",
   "execution_count": null,
   "metadata": {},
   "outputs": [
    {
     "data": {
      "text/plain": [
       "2"
      ]
     },
     "execution_count": 8,
     "metadata": {},
     "output_type": "execute_result"
    }
   ],
   "source": [
    "# Getting the size of the data(int bytes)\n",
    "a.itemsize # returns 2 <=> int16 -> 16 bits -> 2 bytes"
   ]
  },
  {
   "cell_type": "code",
   "execution_count": 10,
   "metadata": {},
   "outputs": [
    {
     "data": {
      "text/plain": [
       "8"
      ]
     },
     "execution_count": 10,
     "metadata": {},
     "output_type": "execute_result"
    }
   ],
   "source": [
    "# Getting the total size(int bytes)\n",
    "a.nbytes"
   ]
  },
  {
   "cell_type": "markdown",
   "metadata": {},
   "source": [
    "## Accessing/Changing specific elements, rows, columns..."
   ]
  },
  {
   "cell_type": "code",
   "execution_count": 14,
   "metadata": {},
   "outputs": [
    {
     "name": "stdout",
     "output_type": "stream",
     "text": [
      "(2, 7)\n"
     ]
    }
   ],
   "source": [
    "a = np.array([[1, 2, 6, 5, 4, 2, 3], [5, 3, 4, 2, 1, 4, 5]], dtype='int16')\n",
    "print(a.shape)"
   ]
  },
  {
   "cell_type": "code",
   "execution_count": 15,
   "metadata": {},
   "outputs": [
    {
     "data": {
      "text/plain": [
       "np.int16(4)"
      ]
     },
     "execution_count": 15,
     "metadata": {},
     "output_type": "execute_result"
    }
   ],
   "source": [
    "# Get a specific elem [r, c]\n",
    "a[1, 5]"
   ]
  },
  {
   "cell_type": "code",
   "execution_count": 16,
   "metadata": {},
   "outputs": [
    {
     "data": {
      "text/plain": [
       "array([1, 2, 6, 5, 4, 2, 3], dtype=int16)"
      ]
     },
     "execution_count": 16,
     "metadata": {},
     "output_type": "execute_result"
    }
   ],
   "source": [
    "# Get a row\n",
    "a[0, :]"
   ]
  },
  {
   "cell_type": "code",
   "execution_count": 17,
   "metadata": {},
   "outputs": [
    {
     "data": {
      "text/plain": [
       "array([6, 4], dtype=int16)"
      ]
     },
     "execution_count": 17,
     "metadata": {},
     "output_type": "execute_result"
    }
   ],
   "source": [
    "# Get a column\n",
    "a[:, 2]"
   ]
  },
  {
   "cell_type": "code",
   "execution_count": 19,
   "metadata": {},
   "outputs": [
    {
     "data": {
      "text/plain": [
       "array([2, 5, 2], dtype=int16)"
      ]
     },
     "execution_count": 19,
     "metadata": {},
     "output_type": "execute_result"
    }
   ],
   "source": [
    "# Getting elems based on a range [start:end:step]\n",
    "a[0, 1:-1:2]"
   ]
  },
  {
   "cell_type": "code",
   "execution_count": 20,
   "metadata": {},
   "outputs": [
    {
     "name": "stdout",
     "output_type": "stream",
     "text": [
      "[[ 1  2 20  5  4  2  3]\n",
      " [ 5  3 20  2  1 10  5]]\n"
     ]
    }
   ],
   "source": [
    "# Changing the element\n",
    "a[1, 5] = 10\n",
    "\n",
    "# Changing entire rows/columns\n",
    "a[:, 2] = 20\n",
    "\n",
    "print(a)"
   ]
  },
  {
   "cell_type": "markdown",
   "metadata": {},
   "source": [
    "### Initializing different Types of Arrays\n"
   ]
  },
  {
   "cell_type": "code",
   "execution_count": 21,
   "metadata": {},
   "outputs": [
    {
     "data": {
      "text/plain": [
       "array([[[0., 0., 0.],\n",
       "        [0., 0., 0.],\n",
       "        [0., 0., 0.]],\n",
       "\n",
       "       [[0., 0., 0.],\n",
       "        [0., 0., 0.],\n",
       "        [0., 0., 0.]]])"
      ]
     },
     "execution_count": 21,
     "metadata": {},
     "output_type": "execute_result"
    }
   ],
   "source": [
    "# NULL MATRIX\n",
    "np.zeros((2, 3, 3))"
   ]
  },
  {
   "cell_type": "code",
   "execution_count": 22,
   "metadata": {},
   "outputs": [
    {
     "data": {
      "text/plain": [
       "array([[[1, 1, 1],\n",
       "        [1, 1, 1],\n",
       "        [1, 1, 1]],\n",
       "\n",
       "       [[1, 1, 1],\n",
       "        [1, 1, 1],\n",
       "        [1, 1, 1]]], dtype=int32)"
      ]
     },
     "execution_count": 22,
     "metadata": {},
     "output_type": "execute_result"
    }
   ],
   "source": [
    "# UNIT MATRIX\n",
    "np.ones((2, 3, 3), dtype=\"int32\")"
   ]
  },
  {
   "cell_type": "code",
   "execution_count": null,
   "metadata": {},
   "outputs": [
    {
     "data": {
      "text/plain": [
       "array([[99, 99],\n",
       "       [99, 99]])"
      ]
     },
     "execution_count": 23,
     "metadata": {},
     "output_type": "execute_result"
    }
   ],
   "source": [
    "# CREATING A MATRIX WITH A NON BOOLEAN VALUE\n",
    "np.full((2, 2), 99)"
   ]
  },
  {
   "cell_type": "code",
   "execution_count": 26,
   "metadata": {},
   "outputs": [
    {
     "name": "stdout",
     "output_type": "stream",
     "text": [
      "[[100 100 100 100 100 100 100]\n",
      " [100 100 100 100 100 100 100]]\n",
      "[[200 200 200 200 200 200 200]\n",
      " [200 200 200 200 200 200 200]]\n"
     ]
    }
   ],
   "source": [
    "# CREATING A MATRIX USING A TEMPLATE(2 WAYS)\n",
    "# first way\n",
    "print(np.full(a.shape, 100))\n",
    "#second way\n",
    "print(np.full_like(a, 200))"
   ]
  },
  {
   "cell_type": "code",
   "execution_count": 30,
   "metadata": {},
   "outputs": [
    {
     "name": "stdout",
     "output_type": "stream",
     "text": [
      "[[[0.64201804 0.10124677]\n",
      "  [0.03659738 0.15449666]]\n",
      "\n",
      " [[0.84332762 0.02989339]\n",
      "  [0.35921521 0.57467428]]\n",
      "\n",
      " [[0.50585234 0.03229818]\n",
      "  [0.66517415 0.87708214]]\n",
      "\n",
      " [[0.36842424 0.13244084]\n",
      "  [0.24565471 0.2575359 ]]]\n",
      "_____________________________\n",
      "[[0.91809803 0.22849488 0.70525651 0.57627598 0.34356863 0.60856919\n",
      "  0.34582951]\n",
      " [0.55958169 0.17868083 0.8742036  0.97602638 0.29354086 0.56555431\n",
      "  0.9226297 ]]\n"
     ]
    }
   ],
   "source": [
    "#Random decimal Matrix\n",
    "print(np.random.rand(4, 2, 2))\n",
    "#To use a Shape in place of the coord\n",
    "print(\"_____________________________\")\n",
    "print(np.random.random_sample(a.shape))"
   ]
  },
  {
   "cell_type": "code",
   "execution_count": 35,
   "metadata": {},
   "outputs": [
    {
     "data": {
      "text/plain": [
       "array([[0, 3, 3],\n",
       "       [5, 3, 2],\n",
       "       [4, 5, 5]], dtype=int32)"
      ]
     },
     "execution_count": 35,
     "metadata": {},
     "output_type": "execute_result"
    }
   ],
   "source": [
    "#Generating integer randoms\n",
    "np.random.randint(7, size=(3, 3))"
   ]
  },
  {
   "cell_type": "code",
   "execution_count": 36,
   "metadata": {},
   "outputs": [
    {
     "data": {
      "text/plain": [
       "array([[1., 0., 0.],\n",
       "       [0., 1., 0.],\n",
       "       [0., 0., 1.]])"
      ]
     },
     "execution_count": 36,
     "metadata": {},
     "output_type": "execute_result"
    }
   ],
   "source": [
    "# IDENTITY MATRIX\n",
    "np.identity(3)"
   ]
  },
  {
   "cell_type": "code",
   "execution_count": null,
   "metadata": {},
   "outputs": [
    {
     "name": "stdout",
     "output_type": "stream",
     "text": [
      "[[1 1 1 2 2 2 3 3 3]]\n"
     ]
    }
   ],
   "source": [
    "# Repeating the array\n",
    "arr = np.array([[1, 2, 3]])\n",
    "r1 = np.repeat(arr, 3, axis=1)\n",
    "#axis here are related to the dimensions of the repeated vector\n",
    "print(r1)"
   ]
  },
  {
   "cell_type": "code",
   "execution_count": 45,
   "metadata": {},
   "outputs": [
    {
     "name": "stdout",
     "output_type": "stream",
     "text": [
      "[[1. 1. 1. 1. 1.]\n",
      " [1. 0. 0. 0. 1.]\n",
      " [1. 0. 9. 0. 1.]\n",
      " [1. 0. 0. 0. 1.]\n",
      " [1. 1. 1. 1. 1.]]\n"
     ]
    }
   ],
   "source": [
    "# Beispiel\n",
    "# Matrix 1 1 1 1 1\n",
    "#        1 0 0 0 1\n",
    "#        1 0 9 0 1\n",
    "#        1 0 0 0 1\n",
    "#        1 1 1 1 1\n",
    "mat = np.ones((5, 5))\n",
    "mat[1:4, 1:-1] = 0\n",
    "mat[2, 2] = 9\n",
    "print(mat)"
   ]
  },
  {
   "cell_type": "markdown",
   "metadata": {},
   "source": [
    "##### Careful with copying arrays"
   ]
  },
  {
   "cell_type": "code",
   "execution_count": null,
   "metadata": {},
   "outputs": [
    {
     "name": "stdout",
     "output_type": "stream",
     "text": [
      "[100   2   3]\n",
      "________________________\n",
      "[100   2   3]\n"
     ]
    }
   ],
   "source": [
    "a = np.array([1, 2, 3])\n",
    "b = a\n",
    "b[0] = 100\n",
    "# the element change in b will triger a change in a\n",
    "# the '=' is a assingment of the address\n",
    "print(a)\n",
    "\n",
    "print('________________________')\n",
    "# Use .copy() for a deep copy\n",
    "c = a.copy()\n",
    "c[0] = 5\n",
    "print(a)"
   ]
  },
  {
   "cell_type": "markdown",
   "metadata": {},
   "source": [
    "# Mathematics in Numpy\n"
   ]
  },
  {
   "cell_type": "code",
   "execution_count": 54,
   "metadata": {},
   "outputs": [
    {
     "name": "stdout",
     "output_type": "stream",
     "text": [
      "[102   4   5]\n",
      "[50.   1.   1.5]\n",
      "[200   4   6]\n",
      "[105   4   6]\n",
      "[ 0.86231887 -0.41614684 -0.9899925 ]\n"
     ]
    }
   ],
   "source": [
    "# Object wise operations\n",
    "print(a + 2)\n",
    "print(a / 2)\n",
    "print(a * 2)\n",
    "print(a + c)\n",
    "print(np.cos(a))"
   ]
  },
  {
   "cell_type": "markdown",
   "metadata": {},
   "source": [
    "### Liniar Algebra\n"
   ]
  },
  {
   "cell_type": "code",
   "execution_count": null,
   "metadata": {},
   "outputs": [
    {
     "data": {
      "text/plain": [
       "np.float64(1.0)"
      ]
     },
     "execution_count": 3,
     "metadata": {},
     "output_type": "execute_result"
    }
   ],
   "source": [
    "# find the determinant of a matrix\n",
    "# to use the liniar algebra functions np.linalg.*\n",
    "I = np.identity(3)\n",
    "np.linalg.det(I)"
   ]
  },
  {
   "cell_type": "markdown",
   "metadata": {},
   "source": [
    "#### Statistics\n"
   ]
  },
  {
   "cell_type": "code",
   "execution_count": 6,
   "metadata": {},
   "outputs": [
    {
     "name": "stdout",
     "output_type": "stream",
     "text": [
      "[1 4] min value based on a axis(axis=1) computation\n",
      "1 minimal value of the all elements\n",
      "[5 7 9] sums of the columns of a 2D array\n"
     ]
    }
   ],
   "source": [
    "# Axis specifies the direction of the operations\n",
    "# axis=0 => direction vertically\n",
    "# axis=1 => direction horizontally\n",
    "# axis=2 => for 3D arrays height\n",
    "stats = np.array([[1, 2, 3], [4, 5, 6]])\n",
    "print(f\"{np.min(stats, axis=1)} min value based on a axis(axis=1) computation\")\n",
    "print(f\"{np.min(stats)} minimal value of the all elements\")\n",
    "\n",
    "print(f\"{np.sum(stats, axis=0)} sums of the columns of a 2D array\")"
   ]
  },
  {
   "cell_type": "markdown",
   "metadata": {},
   "source": [
    "#### Reorganizing Arrays"
   ]
  },
  {
   "cell_type": "code",
   "execution_count": 7,
   "metadata": {},
   "outputs": [
    {
     "name": "stdout",
     "output_type": "stream",
     "text": [
      "[[1 2 3 4]\n",
      " [5 6 7 8]] - array before being modified\n",
      "[[[1 2]\n",
      "  [3 4]]\n",
      "\n",
      " [[5 6]\n",
      "  [7 8]]] - array after being reshaped in a (2, 2, 2)\n"
     ]
    }
   ],
   "source": [
    "before = np.array([[1, 2, 3, 4],[5, 6, 7, 8]])\n",
    "print(f\"{before} - array before being modified\")\n",
    "\n",
    "after = before.reshape((2, 2, 2))\n",
    "print(f\"{after} - array after being reshaped in a (2, 2, 2)\")"
   ]
  },
  {
   "cell_type": "code",
   "execution_count": 11,
   "metadata": {},
   "outputs": [
    {
     "name": "stdout",
     "output_type": "stream",
     "text": [
      "[[1 2 3 4]\n",
      " [6 7 8 9]\n",
      " [6 7 8 9]\n",
      " [1 2 3 4]]\n",
      "\n",
      "[1 2 3 4 6 7 8 9]\n"
     ]
    }
   ],
   "source": [
    "# Vertically stacking arrays\n",
    "v1 = np.array([1, 2, 3, 4])\n",
    "v2 = np.array([6, 7, 8, 9])\n",
    "\n",
    "print(np.stack([v1, v2, v2, v1]))\n",
    "\n",
    "print()\n",
    "# Horizontally stacking arrays\n",
    "print(np.hstack([v1, v2]))"
   ]
  },
  {
   "cell_type": "markdown",
   "metadata": {},
   "source": [
    "#### Miscellaneous"
   ]
  },
  {
   "cell_type": "markdown",
   "metadata": {},
   "source": [
    "##### Load data from File\n"
   ]
  },
  {
   "cell_type": "code",
   "execution_count": null,
   "metadata": {},
   "outputs": [
    {
     "data": {
      "text/plain": [
       "array([[ 1,  2,  3, 54, 12, 43, 12, 98, 47, 97, 10, 18],\n",
       "       [ 1, 27, 31,  5,  2, 23,  8, 91, 45, 17, 13, 19],\n",
       "       [ 1,  0, 33, 54, 10,  3, 11, 93, 40, 87, 14, 13],\n",
       "       [ 1,  9, 23, 54, 11,  4, 13, 90, 17, 96, 15, 10]], dtype=int32)"
      ]
     },
     "execution_count": 13,
     "metadata": {},
     "output_type": "execute_result"
    }
   ],
   "source": [
    "# Automatically cast the data into float type\n",
    "file_data = np.genfromtxt('file.txt', delimiter=',')\n",
    "# Change the type of the values\n",
    "file_data_int = file_data.astype('int32')\n",
    "\n",
    "file_data_int\n"
   ]
  },
  {
   "cell_type": "markdown",
   "metadata": {},
   "source": [
    "##### Boolean Masking and Advanced Indexing"
   ]
  },
  {
   "cell_type": "code",
   "execution_count": 24,
   "metadata": {},
   "outputs": [
    {
     "name": "stdout",
     "output_type": "stream",
     "text": [
      "[[False False False  True False False False  True False  True False False]\n",
      " [False False False False False False False  True False False False False]\n",
      " [False False False  True False False False  True False  True False False]\n",
      " [False False False  True False False False  True False  True False False]]\n",
      "\n",
      "[54 98 97 91 54 93 87 54 90 96]\n",
      "\n",
      "[[ 1 27 31  5  2 23  8 91 45 17 13 19]\n",
      " [ 1  9 23 54 11  4 13 90 17 96 15 10]]\n",
      "\n",
      "[False False False  True False False False  True False  True False False]\n",
      "\n",
      "[False False False False]\n",
      "\n",
      "[[False False False  True False False False  True False  True False False]\n",
      " [False False False False False False False  True False False False False]\n",
      " [False False False  True False False False  True False  True False False]\n",
      " [False False False  True False False False  True False  True False False]]\n"
     ]
    }
   ],
   "source": [
    "# I want where in file_data the value is bigger then 50\n",
    "# returns a matrix of boolean \n",
    "print(file_data_int > 50)\n",
    "\n",
    "# indexing based on the boolean value\n",
    "# retunrs only the values that are > 50\n",
    "print() \n",
    "print(file_data_int[file_data_int > 50])\n",
    "\n",
    "# indexing with a list\n",
    "print()\n",
    "print(file_data_int[[1, 3]])\n",
    "\n",
    "# using helper functions\n",
    "print()\n",
    "# what columns have at least one value bigger then 50 on the column\n",
    "print(np.any(file_data_int > 50, axis=0))\n",
    "\n",
    "# what rows have all the values bigger then 50\n",
    "print()\n",
    "print(np.all(file_data_int > 50, axis=1))\n",
    "\n",
    "# logical operations \n",
    "print()\n",
    "print(((file_data_int > 50) & (file_data_int < 150)))"
   ]
  },
  {
   "cell_type": "code",
   "execution_count": 31,
   "metadata": {},
   "outputs": [
    {
     "data": {
      "text/plain": [
       "array([[ 1,  2,  3,  4],\n",
       "       [-5, -6, -7, -8],\n",
       "       [ 5,  6,  7,  8]])"
      ]
     },
     "execution_count": 31,
     "metadata": {},
     "output_type": "execute_result"
    }
   ],
   "source": [
    "arr = np.array([[1, 2, 3, 4], [-1, -2, -3, -4], [5, 6, 7, 8], [-5, -6, -7, -8]])\n",
    "arr[[0, -1, -2], :]"
   ]
  }
 ],
 "metadata": {
  "kernelspec": {
   "display_name": "venv",
   "language": "python",
   "name": "python3"
  },
  "language_info": {
   "codemirror_mode": {
    "name": "ipython",
    "version": 3
   },
   "file_extension": ".py",
   "mimetype": "text/x-python",
   "name": "python",
   "nbconvert_exporter": "python",
   "pygments_lexer": "ipython3",
   "version": "3.12.8"
  }
 },
 "nbformat": 4,
 "nbformat_minor": 2
}
